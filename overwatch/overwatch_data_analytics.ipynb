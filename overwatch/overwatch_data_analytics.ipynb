{
 "cells": [
  {
   "cell_type": "code",
   "execution_count": 10,
   "metadata": {
    "collapsed": false
   },
   "outputs": [],
   "source": [
    "%matplotlib inline\n",
    "\n",
    "import pandas as pd\n",
    "\n",
    "import matplotlib\n",
    "import warnings\n",
    "warnings.filterwarnings(\"ignore\")\n",
    "import seaborn as sns\n",
    "import matplotlib.pyplot as plt\n",
    "sns.set(style=\"white\", color_codes=True)\n",
    "\n",
    "avg_stats_all = pd.read_json('results_core_validated.json', convert_axes=True)"
   ]
  },
  {
   "cell_type": "code",
   "execution_count": 55,
   "metadata": {
    "collapsed": false
   },
   "outputs": [
    {
     "data": {
      "text/html": [
       "<div>\n",
       "<table border=\"1\" class=\"dataframe\">\n",
       "  <thead>\n",
       "    <tr style=\"text-align: right;\">\n",
       "      <th></th>\n",
       "      <th>ana</th>\n",
       "      <th>bastion</th>\n",
       "      <th>dva</th>\n",
       "      <th>genji</th>\n",
       "      <th>hanzo</th>\n",
       "      <th>junkrat</th>\n",
       "      <th>lucio</th>\n",
       "      <th>mccree</th>\n",
       "      <th>mei</th>\n",
       "      <th>mercy</th>\n",
       "      <th>...</th>\n",
       "      <th>reinhardt</th>\n",
       "      <th>roadhog</th>\n",
       "      <th>soldier76</th>\n",
       "      <th>symmetra</th>\n",
       "      <th>torbjorn</th>\n",
       "      <th>tracer</th>\n",
       "      <th>widowmaker</th>\n",
       "      <th>winston</th>\n",
       "      <th>zarya</th>\n",
       "      <th>zenyatta</th>\n",
       "    </tr>\n",
       "  </thead>\n",
       "  <tbody>\n",
       "    <tr>\n",
       "      <th>DAMAGE</th>\n",
       "      <td>2,016</td>\n",
       "      <td>7,367</td>\n",
       "      <td>5,155</td>\n",
       "      <td>4,983</td>\n",
       "      <td>5,559</td>\n",
       "      <td>6,832</td>\n",
       "      <td>2,481</td>\n",
       "      <td>5,305</td>\n",
       "      <td>3,516</td>\n",
       "      <td>408</td>\n",
       "      <td>...</td>\n",
       "      <td>3,685</td>\n",
       "      <td>5,905</td>\n",
       "      <td>6,446</td>\n",
       "      <td>3,265</td>\n",
       "      <td>5,928</td>\n",
       "      <td>5,147</td>\n",
       "      <td>4,798</td>\n",
       "      <td>4,110</td>\n",
       "      <td>5,048</td>\n",
       "      <td>3,560</td>\n",
       "    </tr>\n",
       "  </tbody>\n",
       "</table>\n",
       "<p>1 rows × 22 columns</p>\n",
       "</div>"
      ],
      "text/plain": [
       "           ana bastion     dva   genji   hanzo junkrat   lucio  mccree  \\\n",
       "DAMAGE  2,016   7,367   5,155   4,983   5,559   6,832   2,481   5,305    \n",
       "\n",
       "           mei mercy   ...    reinhardt roadhog soldier76 symmetra torbjorn  \\\n",
       "DAMAGE  3,516   408    ...       3,685   5,905     6,446    3,265    5,928    \n",
       "\n",
       "        tracer widowmaker winston   zarya zenyatta  \n",
       "DAMAGE  5,147      4,798   4,110   5,048    3,560   \n",
       "\n",
       "[1 rows x 22 columns]"
      ]
     },
     "execution_count": 55,
     "metadata": {},
     "output_type": "execute_result"
    }
   ],
   "source": [
    "df = avg_stats_all.iloc[[2]]"
   ]
  },
  {
   "cell_type": "code",
   "execution_count": null,
   "metadata": {
    "collapsed": true
   },
   "outputs": [],
   "source": []
  }
 ],
 "metadata": {
  "kernelspec": {
   "display_name": "Python [Root]",
   "language": "python",
   "name": "Python [Root]"
  },
  "language_info": {
   "codemirror_mode": {
    "name": "ipython",
    "version": 2
   },
   "file_extension": ".py",
   "mimetype": "text/x-python",
   "name": "python",
   "nbconvert_exporter": "python",
   "pygments_lexer": "ipython2",
   "version": "2.7.12"
  }
 },
 "nbformat": 4,
 "nbformat_minor": 0
}
