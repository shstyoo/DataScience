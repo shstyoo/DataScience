{
 "cells": [
  {
   "cell_type": "code",
   "execution_count": 1,
   "metadata": {
    "collapsed": false
   },
   "outputs": [],
   "source": [
    "import csv\n",
    "csv_list = []\n",
    "with open('ignore/movie_metadata.csv', 'rb') as csvfile:\n",
    "    reader = csv.reader(csvfile, delimiter=',', quotechar='|')\n",
    "    for row in reader:\n",
    "        csv_list.append(row)"
   ]
  },
  {
   "cell_type": "code",
   "execution_count": 3,
   "metadata": {
    "collapsed": false
   },
   "outputs": [
    {
     "data": {
      "text/plain": [
       "['Color',\n",
       " 'James Cameron',\n",
       " '723',\n",
       " '178',\n",
       " '0',\n",
       " '855',\n",
       " 'Joel David Moore',\n",
       " '1000',\n",
       " '760505847',\n",
       " 'Action|Adventure|Fantasy|Sci-Fi',\n",
       " 'CCH Pounder',\n",
       " 'Avatar\\xc2\\xa0',\n",
       " '886204',\n",
       " '4834',\n",
       " 'Wes Studi',\n",
       " '0',\n",
       " 'avatar|future|marine|native|paraplegic',\n",
       " 'http://www.imdb.com/title/tt0499549/?ref_=fn_tt_tt_1',\n",
       " '3054',\n",
       " 'English',\n",
       " 'USA',\n",
       " 'PG-13',\n",
       " '237000000',\n",
       " '2009',\n",
       " '936',\n",
       " '7.9',\n",
       " '1.78',\n",
       " '33000']"
      ]
     },
     "execution_count": 3,
     "metadata": {},
     "output_type": "execute_result"
    }
   ],
   "source": [
    "csv_list[1]"
   ]
  },
  {
   "cell_type": "code",
   "execution_count": null,
   "metadata": {
    "collapsed": false
   },
   "outputs": [],
   "source": []
  },
  {
   "cell_type": "code",
   "execution_count": null,
   "metadata": {
    "collapsed": true
   },
   "outputs": [],
   "source": []
  }
 ],
 "metadata": {
  "kernelspec": {
   "display_name": "Python [Root]",
   "language": "python",
   "name": "Python [Root]"
  },
  "language_info": {
   "codemirror_mode": {
    "name": "ipython",
    "version": 2
   },
   "file_extension": ".py",
   "mimetype": "text/x-python",
   "name": "python",
   "nbconvert_exporter": "python",
   "pygments_lexer": "ipython2",
   "version": "2.7.12"
  }
 },
 "nbformat": 4,
 "nbformat_minor": 0
}
